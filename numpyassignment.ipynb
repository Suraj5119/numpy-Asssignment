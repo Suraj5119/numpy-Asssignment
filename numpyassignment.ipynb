{
 "cells": [
  {
   "cell_type": "markdown",
   "id": "14ba1a41-cbc1-4ea9-a923-37ee712f3c18",
   "metadata": {},
   "source": [
    "Que1:-Explain the purpose and advantages of NumPy in scientific computing and data analysis. How does it\n",
    "      enhance Python's capabilities for numerical operations?\n",
    "Ans: It Helps You Conduct Working in Scientific Computing and Data Analysis, as NumPy/Object-Oriented Programming The \n",
    "    Uses of Object-oriented programming reduces recursion etc;NumPy is a commonly used library for N-dimensional array \n",
    "    creation in Python which can be utilized to perfrom numpy operations and much more. You can use it to extend the \n",
    "    functionality of Python, doing computationally intensive numerical computations (needed for scientific data             analysis) in an efficient way. \n",
    "    \n",
    "    Benefits of using NumPyPerformance : NumPy arrays (ndarrays) are more compact than Python lists, and \n",
    "    this type of data structure is more efficient in terms for operations like element-wise addition or multiplication.     Thisresults in over much faster operations on arrays thanks to the C implementation.\n",
    "    \n",
    "    Vectorization: In NumPy operations are esentially inherited but applied element-wise to arrays,requiring no need of\n",
    "    explicit loops.\n",
    "    \n",
    "    Integration: NumPy plays well with scientific libraries such as SciPy, Matplotlib and Pandas which is why it has a       firm foothold in the scientific Python ecosystem.\n",
    "    \n",
    "    Extensive Capabilities — it offers for use mathematical operations, linear algebra and random number generation         among  many other built-in functions which makes the package versatile to support a wide array of applications."
   ]
  },
  {
   "cell_type": "markdown",
   "id": "6cd9374e-0679-4db7-8008-388eebe676a3",
   "metadata": {},
   "source": [
    "Que2:-Compare and contrast np.mean() and np.average() functions in NumPy. When would you use one over the other?\n",
    "Ans:- Comparing `np. mean()` and `np. average()` in NumPy:\n",
    "- `np. mean()`: Compute the arithmetic mean along the specified axis. It just adds the elements and divide it with\n",
    "   number of element.\n",
    "\n",
    "- `np. average()` – Calculates the average of elements for some other axis, but unlike mean() here we can calculate \n",
    "   weighted averages. If no weights are given, it behaves like np. mean()`. It computes a mean value, but if weights are\n",
    "   given, it will be calculated as the weighted average.\n",
    "\n",
    "- When to use: Use `np. mean()` when you mean basic average. Use `np. average() is similar to average() with the ability\n",
    "   to handle different weights for each element in a AIm pair.\n",
    "    "
   ]
  },
  {
   "cell_type": "code",
   "execution_count": 4,
   "id": "62280050-6235-4b32-8ca1-eb2514b3f024",
   "metadata": {},
   "outputs": [
    {
     "data": {
      "text/plain": [
       "array([4, 3, 2, 1])"
      ]
     },
     "execution_count": 4,
     "metadata": {},
     "output_type": "execute_result"
    }
   ],
   "source": [
    "# Que3:- Describe the methods for reversing a NumPy array along different axes. Provide examples for 1D and 2D arrays.\n",
    "# Ans:-1D Array: By Slicing you can reverse a 1D array following by :5\n",
    "import numpy as np\n",
    "arr = np.array([1, 2, 3, 4])\n",
    "reversed_arr = arr[::-1]\n",
    "reversed_arr\n"
   ]
  },
  {
   "cell_type": "code",
   "execution_count": 5,
   "id": "95b13c17-7374-4e17-b440-29abfe30b151",
   "metadata": {},
   "outputs": [
    {
     "data": {
      "text/plain": [
       "array([[7, 8, 9],\n",
       "       [4, 5, 6],\n",
       "       [1, 2, 3]])"
      ]
     },
     "execution_count": 5,
     "metadata": {},
     "output_type": "execute_result"
    }
   ],
   "source": [
    "# 2D Array- In the case of 3d we can reverse using slicing along any direction.\n",
    "arr = np.array([[1, 2, 3], [4, 5, 6], [7, 8, 9]])\n",
    "reversed_rows = arr[::-1, :]\n",
    "reversed_rows "
   ]
  },
  {
   "cell_type": "code",
   "execution_count": 6,
   "id": "356351cd-64ef-45c5-9b6f-2379f4608c7d",
   "metadata": {},
   "outputs": [
    {
     "data": {
      "text/plain": [
       "array([[3, 2, 1],\n",
       "       [6, 5, 4],\n",
       "       [9, 8, 7]])"
      ]
     },
     "execution_count": 6,
     "metadata": {},
     "output_type": "execute_result"
    }
   ],
   "source": [
    "# Reversing columns:\n",
    "reversed_cols = arr[:, ::-1]\n",
    "reversed_cols"
   ]
  },
  {
   "cell_type": "code",
   "execution_count": 7,
   "id": "5be2e001-033f-4314-b0c9-684ad186356e",
   "metadata": {},
   "outputs": [
    {
     "data": {
      "text/plain": [
       "array([[9, 8, 7],\n",
       "       [6, 5, 4],\n",
       "       [3, 2, 1]])"
      ]
     },
     "execution_count": 7,
     "metadata": {},
     "output_type": "execute_result"
    }
   ],
   "source": [
    "# Reversing both rows and columns\n",
    "fully_reversed = arr[::-1, ::-1]\n",
    "fully_reversed"
   ]
  },
  {
   "cell_type": "code",
   "execution_count": 9,
   "id": "ed37e292-3410-4d0a-8717-3950bb4f193b",
   "metadata": {},
   "outputs": [
    {
     "data": {
      "text/plain": [
       "dtype('int64')"
      ]
     },
     "execution_count": 9,
     "metadata": {},
     "output_type": "execute_result"
    }
   ],
   "source": [
    "# Que4:- How can you determine the data type of elements in a NumPy array? Discuss the importance of data types\n",
    "# in memory management and performance.\n",
    "# Ans:- You can see the type of data stored in a NumPy array with its `dtype` attribute.\n",
    "arr = np.array([1, 2, 3])\n",
    "data_type = arr.dtype\n",
    "data_type\n"
   ]
  },
  {
   "cell_type": "markdown",
   "id": "23d7d7b3-dabd-4129-8e97-e91119e322ea",
   "metadata": {},
   "source": [
    "Importance of Data Types:-\n",
    "\n",
    "Memory Management: Data Types require different amount of memory. Choosing the right data type will help in proper\n",
    "memory management.\n",
    "Performance—Some operations are more аble to be optimized with particular data types. To put numbers on my prior \n",
    "statement, `float32` is faster in computational terms than `float64`, for instance floating-points operations."
   ]
  },
  {
   "cell_type": "markdown",
   "id": "a50f632b-17c1-4e81-827a-5dc4ab7fd41c",
   "metadata": {},
   "source": [
    "Que5:-Define ndarrays in NumPy and explain their key features. How do they differ from standard Python lists?\n",
    "Ans:-The Basics of NumPy Defining `ndarrays` and Their Key Features-\n",
    "    An ndarray is the core data structure in NumPy, consisting of a multi-dimensional table(array) with homogeneous          elements.\n",
    "    - Key Features:-\n",
    "\n",
    "    -homogeneity (all elements have the same data type)\n",
    "    Storage: ndarrays are usually stored as contiguous blocks of memory, which makes them fast to access and process.\n",
    "    Vectorized Operations: That is, they occur element-by-element and are aimed to run as efficiently.\n",
    "    Note that, it is a valid statement because while `ndarrays` are similar to Python lists they have the property of       being  fixed in size and like homogeneous in data type except for `object`, which hence allows more efficient           mathematical operations."
   ]
  },
  {
   "cell_type": "markdown",
   "id": "44f5214d-4def-4e88-95c5-f0c4de50133b",
   "metadata": {},
   "source": [
    "Que6:- Analyze the performance benefits of NumPy arrays over Python lists for large-scale numerical operations.\n",
    "Ans:-NumPy arrays are significantly faster than Python lists for large-scale numerical operations due to:\n",
    "    Contiguous Memory Layout: NumPy arrays are stored in contiguous memory, reducing the overhead of data access.\n",
    "    Vectorization: Operations are implemented in compiled C code and applied element-wise, avoiding the need for explicit loops.\n",
    "    Less Memory Overhead: NumPy arrays have less memory overhead compared to Python lists since they store elements of the same type and size."
   ]
  },
  {
   "cell_type": "code",
   "execution_count": 10,
   "id": "3054af35-1617-4c6a-86ed-ca58343a8eb0",
   "metadata": {},
   "outputs": [
    {
     "data": {
      "text/plain": [
       "array([[1, 2, 3],\n",
       "       [4, 5, 6]])"
      ]
     },
     "execution_count": 10,
     "metadata": {},
     "output_type": "execute_result"
    }
   ],
   "source": [
    "# Que7:-Compare vstack() and hstack() functions in NumPy. Provide examples demonstrating their usage and\n",
    "# output.\n",
    "# Ans:-vstack(): Stacks arrays vertically (row-wise). It concatenates arrays along the first axis (rows).\n",
    "a = np.array([1, 2, 3])\n",
    "b = np.array([4, 5, 6])\n",
    "vstacked = np.vstack((a, b))\n",
    "vstacked"
   ]
  },
  {
   "cell_type": "code",
   "execution_count": 11,
   "id": "e6d69dbf-d4a5-4aa6-b611-115e4f5c5d52",
   "metadata": {},
   "outputs": [
    {
     "data": {
      "text/plain": [
       "array([1, 2, 3, 4, 5, 6])"
      ]
     },
     "execution_count": 11,
     "metadata": {},
     "output_type": "execute_result"
    }
   ],
   "source": [
    "# hstack(): Stacks arrays horizontally (column-wise). It concatenates arrays along the second axis (columns).\n",
    "hstacked = np.hstack((a, b))\n",
    "hstacked\n"
   ]
  },
  {
   "cell_type": "code",
   "execution_count": 13,
   "id": "3d8b5caa-fa9c-41b5-bee1-8c2af4c99fdb",
   "metadata": {},
   "outputs": [
    {
     "data": {
      "text/plain": [
       "array([[3, 2, 1],\n",
       "       [6, 5, 4]])"
      ]
     },
     "execution_count": 13,
     "metadata": {},
     "output_type": "execute_result"
    }
   ],
   "source": [
    "# Que8:-Explain the differences between fliplr() and flipud() methods in NumPy, including their effects on various\n",
    "# array dimensions.\n",
    "# Ans:-fliplr(): Flips an array horizontally (left to right). It reverses the order of columns.\n",
    "arr = np.array([[1, 2, 3], [4, 5, 6]])\n",
    "flipped_lr = np.fliplr(arr)\n",
    "flipped_lr\n"
   ]
  },
  {
   "cell_type": "code",
   "execution_count": 14,
   "id": "3840cd66-7986-41a8-9b54-e4171c656293",
   "metadata": {},
   "outputs": [
    {
     "data": {
      "text/plain": [
       "array([[4, 5, 6],\n",
       "       [1, 2, 3]])"
      ]
     },
     "execution_count": 14,
     "metadata": {},
     "output_type": "execute_result"
    }
   ],
   "source": [
    "# flipud(): Flips an array vertically (upside down). It reverses the order of rows.\n",
    "flipped_ud = np.flipud(arr)\n",
    "flipped_ud\n"
   ]
  },
  {
   "cell_type": "code",
   "execution_count": 15,
   "id": "39734c1e-b556-4cc1-9ab0-b8feca0f1f93",
   "metadata": {},
   "outputs": [
    {
     "data": {
      "text/plain": [
       "[array([1, 2]), array([3, 4]), array([5]), array([6])]"
      ]
     },
     "execution_count": 15,
     "metadata": {},
     "output_type": "execute_result"
    }
   ],
   "source": [
    "# Que:9-Discuss the functionality of the array_split() method in NumPy. How does it handle uneven splits?\n",
    "# Ans:-The array_split() method splits an array into multiple sub-arrays. It handles uneven splits by allowing the last\n",
    "# few sub-arrays to have fewer elements than the others:\n",
    "\n",
    "arr = np.array([1, 2, 3, 4, 5, 6])\n",
    "split_arr = np.array_split(arr, 4)\n",
    "split_arr\n"
   ]
  },
  {
   "cell_type": "code",
   "execution_count": 16,
   "id": "9212eb97-76c6-438f-bddb-9026cff7dd0e",
   "metadata": {},
   "outputs": [
    {
     "data": {
      "text/plain": [
       "array([5, 7, 9])"
      ]
     },
     "execution_count": 16,
     "metadata": {},
     "output_type": "execute_result"
    }
   ],
   "source": [
    "# Que10:- Explain the concepts of vectorization and broadcasting in NumPy. How do they contribute to efficient array\n",
    "# operations?\n",
    "# ANs:-Vectorization: Refers to the ability to apply operations on entire arrays without the need for explicit loops.\n",
    "# This leads to more concise and faster code. For example, adding two arrays:\n",
    "a = np.array([1, 2, 3])\n",
    "b = np.array([4, 5, 6])\n",
    "c = a + b  \n",
    "c\n"
   ]
  },
  {
   "cell_type": "code",
   "execution_count": null,
   "id": "6037b21b-47dc-40c7-a2aa-efea5ef09c72",
   "metadata": {},
   "outputs": [
    {
     "data": {
      "text/plain": [
       "array([[2, 3, 4],\n",
       "       [3, 4, 5],\n",
       "       [4, 5, 6]])"
      ]
     },
     "execution_count": 18,
     "metadata": {},
     "output_type": "execute_result"
    }
   ],
   "source": [
    "# Broadcasting: Refers to the ability of NumPy to perform operations on arrays of different shapes. Smaller arrays are \n",
    "# \"broadcasted\" to match the shape of larger arrays when necessary. For example:\n",
    "a = np.array([1, 2, 3])\n",
    "b = np.array([[1], [2], [3]])\n",
    "c = a + b \n",
    "c\n"
   ]
  },
  {
   "cell_type": "code",
   "execution_count": null,
   "id": "978ddc5e-a28e-4adf-8733-b0178902204a",
   "metadata": {},
   "outputs": [],
   "source": []
  },
  {
   "cell_type": "code",
   "execution_count": null,
   "id": "59782820-6b36-4290-896b-716648a1f5c8",
   "metadata": {},
   "outputs": [],
   "source": []
  },
  {
   "cell_type": "markdown",
   "id": "be11bc73-e32b-48b5-a551-f44db8a05e05",
   "metadata": {},
   "source": [
    "Practical Question"
   ]
  },
  {
   "cell_type": "code",
   "execution_count": 19,
   "id": "a8d144f7-98de-44ce-b64f-9e55cae4c89b",
   "metadata": {},
   "outputs": [
    {
     "data": {
      "text/plain": [
       "array([[25, 45, 45],\n",
       "       [67,  3, 32],\n",
       "       [12, 39, 83]])"
      ]
     },
     "execution_count": 19,
     "metadata": {},
     "output_type": "execute_result"
    }
   ],
   "source": [
    "# Que1:-Create a 3x3 NumPy array with random integers between 1 and 100. Then, interchange its rows and columns.\n",
    "# ans-\n",
    "import numpy as np\n",
    "arr = np.random.randint(1, 101, size=(3, 3))\n",
    "transposed_arr = arr.T\n",
    "transposed_arr  "
   ]
  },
  {
   "cell_type": "code",
   "execution_count": 20,
   "id": "7702e3ff-6699-4306-bcfb-a0b55dff6c17",
   "metadata": {},
   "outputs": [
    {
     "data": {
      "text/plain": [
       "array([[0, 1],\n",
       "       [2, 3],\n",
       "       [4, 5],\n",
       "       [6, 7],\n",
       "       [8, 9]])"
      ]
     },
     "execution_count": 20,
     "metadata": {},
     "output_type": "execute_result"
    }
   ],
   "source": [
    "# Que2:-Generate a 1D NumPy array with 10 elements. Reshape it into a 2x5 array, then into a 5x2 array.\n",
    "# ans:-\n",
    "arr = np.arange(10)\n",
    "arr_2x5 = arr.reshape(2, 5)\n",
    "# arr_2x5  Display the 2x5 array\n",
    "arr_5x2 = arr_2x5.reshape(5, 2)\n",
    "arr_5x2  \n"
   ]
  },
  {
   "cell_type": "code",
   "execution_count": 21,
   "id": "c0487e65-60e3-486c-9917-da21f92b62b1",
   "metadata": {},
   "outputs": [
    {
     "data": {
      "text/plain": [
       "array([[0.        , 0.        , 0.        , 0.        , 0.        ,\n",
       "        0.        ],\n",
       "       [0.        , 0.14235499, 0.33679162, 0.14357883, 0.34561679,\n",
       "        0.        ],\n",
       "       [0.        , 0.62252511, 0.95364015, 0.98689374, 0.88645375,\n",
       "        0.        ],\n",
       "       [0.        , 0.65455097, 0.43360534, 0.6550823 , 0.87195193,\n",
       "        0.        ],\n",
       "       [0.        , 0.86350437, 0.44769931, 0.73084227, 0.7749901 ,\n",
       "        0.        ],\n",
       "       [0.        , 0.        , 0.        , 0.        , 0.        ,\n",
       "        0.        ]])"
      ]
     },
     "execution_count": 21,
     "metadata": {},
     "output_type": "execute_result"
    }
   ],
   "source": [
    "# Que3:Create a 4x4 NumPy array with random float values. Add a border of zeros around it, resulting in a 6x6 array.\n",
    "# Ans:-\n",
    "arr = np.random.rand(4, 4)\n",
    "bordered_arr = np.pad(arr, pad_width=1, mode='constant', constant_values=0)\n",
    "bordered_arr \n"
   ]
  },
  {
   "cell_type": "code",
   "execution_count": 22,
   "id": "9226cd4c-2232-48a4-abc6-f9470bcf8e7e",
   "metadata": {},
   "outputs": [
    {
     "data": {
      "text/plain": [
       "array([10, 15, 20, 25, 30, 35, 40, 45, 50, 55, 60])"
      ]
     },
     "execution_count": 22,
     "metadata": {},
     "output_type": "execute_result"
    }
   ],
   "source": [
    "# Que4:- Using NumPy, create an array of integers from 10 to 60 with a step of 5\n",
    "# Ans:-\n",
    "arr = np.arange(10, 61, 5)\n",
    "arr "
   ]
  },
  {
   "cell_type": "code",
   "execution_count": 23,
   "id": "cee5889a-7035-4f0f-8675-cbde099039c6",
   "metadata": {},
   "outputs": [
    {
     "data": {
      "text/plain": [
       "array(['PYTHON', 'NUMPY', 'PANDAS'], dtype='<U6')"
      ]
     },
     "execution_count": 23,
     "metadata": {},
     "output_type": "execute_result"
    }
   ],
   "source": [
    "# Que5-:Create a NumPy array of strings ['python', 'numpy', 'pandas']. Apply different case transformations\n",
    "# (uppercase, lowercase, title case, etc.) to each element.\n",
    "# Ans:-\n",
    "arr = np.array(['python', 'numpy', 'pandas'])\n",
    "\n",
    "upper_case = np.char.upper(arr)\n",
    "upper_case "
   ]
  },
  {
   "cell_type": "code",
   "execution_count": 24,
   "id": "eed06628-c399-4e4c-90f0-1bc86342b9b9",
   "metadata": {},
   "outputs": [
    {
     "data": {
      "text/plain": [
       "array(['python', 'numpy', 'pandas'], dtype='<U6')"
      ]
     },
     "execution_count": 24,
     "metadata": {},
     "output_type": "execute_result"
    }
   ],
   "source": [
    "lower_case = np.char.lower(arr)\n",
    "lower_case "
   ]
  },
  {
   "cell_type": "code",
   "execution_count": 25,
   "id": "84fa0c49-0b75-4d90-8384-ec95c0829111",
   "metadata": {},
   "outputs": [
    {
     "data": {
      "text/plain": [
       "array(['Python', 'Numpy', 'Pandas'], dtype='<U6')"
      ]
     },
     "execution_count": 25,
     "metadata": {},
     "output_type": "execute_result"
    }
   ],
   "source": [
    "title_case = np.char.title(arr)\n",
    "title_case  "
   ]
  },
  {
   "cell_type": "code",
   "execution_count": 26,
   "id": "8366ba47-4945-4476-85a1-90dd00662c77",
   "metadata": {},
   "outputs": [
    {
     "data": {
      "text/plain": [
       "array(['p y t h o n', 'n u m p y', 'p a n d a s'], dtype='<U11')"
      ]
     },
     "execution_count": 26,
     "metadata": {},
     "output_type": "execute_result"
    }
   ],
   "source": [
    "# Que6:-Generate a NumPy array of words. Insert a space between each character of every word in the array\n",
    "# Ans:-\n",
    "arr = np.array(['python', 'numpy', 'pandas'])\n",
    "spaced_arr = np.char.join(' ', arr)\n",
    "spaced_arr "
   ]
  },
  {
   "cell_type": "code",
   "execution_count": 28,
   "id": "2f0e77db-6372-4408-acfe-eaf15e061e30",
   "metadata": {},
   "outputs": [
    {
     "data": {
      "text/plain": [
       "array([[ 6,  8],\n",
       "       [10, 12]])"
      ]
     },
     "execution_count": 28,
     "metadata": {},
     "output_type": "execute_result"
    }
   ],
   "source": [
    "# Que7:-Create two 2D NumPy arrays and perform element-wise addition, subtraction, multiplication, and division.\n",
    "# Ans:-\n",
    "arr1 = np.array([[1, 2], [3, 4]])\n",
    "arr2 = np.array([[5, 6], [7, 8]])\n",
    "addition = arr1 + arr2\n",
    "addition  "
   ]
  },
  {
   "cell_type": "code",
   "execution_count": 29,
   "id": "551d1ab4-8d7d-4797-95f9-6dc3030f1fb0",
   "metadata": {},
   "outputs": [
    {
     "data": {
      "text/plain": [
       "array([[-4, -4],\n",
       "       [-4, -4]])"
      ]
     },
     "execution_count": 29,
     "metadata": {},
     "output_type": "execute_result"
    }
   ],
   "source": [
    "subtraction = arr1 - arr2\n",
    "subtraction "
   ]
  },
  {
   "cell_type": "code",
   "execution_count": 30,
   "id": "6b497509-2bc5-4ec1-8a09-4ceceaddf2b9",
   "metadata": {},
   "outputs": [
    {
     "data": {
      "text/plain": [
       "array([[ 5, 12],\n",
       "       [21, 32]])"
      ]
     },
     "execution_count": 30,
     "metadata": {},
     "output_type": "execute_result"
    }
   ],
   "source": [
    "multiplication = arr1 * arr2\n",
    "multiplication  "
   ]
  },
  {
   "cell_type": "code",
   "execution_count": 31,
   "id": "be1c95c2-f4b4-4b70-bca5-8ffb8c5f222e",
   "metadata": {},
   "outputs": [
    {
     "data": {
      "text/plain": [
       "array([[0.2       , 0.33333333],\n",
       "       [0.42857143, 0.5       ]])"
      ]
     },
     "execution_count": 31,
     "metadata": {},
     "output_type": "execute_result"
    }
   ],
   "source": [
    "division = arr1 / arr2\n",
    "division  "
   ]
  },
  {
   "cell_type": "code",
   "execution_count": 32,
   "id": "1da86b14-dcdf-4b74-931e-3f3f71c35c72",
   "metadata": {},
   "outputs": [
    {
     "data": {
      "text/plain": [
       "array([1., 1., 1., 1., 1.])"
      ]
     },
     "execution_count": 32,
     "metadata": {},
     "output_type": "execute_result"
    }
   ],
   "source": [
    "# Que8- Use NumPy to create a 5x5 identity matrix, then extract its diagonal elements.\n",
    "# Ans\n",
    "identity_matrix = np.eye(5)\n",
    "diagonal_elements = np.diag(identity_matrix)\n",
    "diagonal_elements\n"
   ]
  },
  {
   "cell_type": "code",
   "execution_count": 33,
   "id": "0b954af4-bb1f-4f77-b955-216c95d33596",
   "metadata": {},
   "outputs": [
    {
     "data": {
      "text/plain": [
       "array([409,  83, 397, 257, 569,  71,  11, 269, 659, 547, 149, 227, 227,\n",
       "       571, 449])"
      ]
     },
     "execution_count": 33,
     "metadata": {},
     "output_type": "execute_result"
    }
   ],
   "source": [
    "# Que9- Generate a NumPy array of 100 random integers between 0 and 1000. Find and display all prime numbers in\n",
    "# this array.\n",
    "# ANs:\n",
    "def is_prime(n):\n",
    "    if n < 2:\n",
    "        return False\n",
    "    for i in range(2, int(np.sqrt(n)) + 1):\n",
    "        if n % i == 0:\n",
    "            return False\n",
    "    return True\n",
    "arr = np.random.randint(0, 1001, size=100)\n",
    "prime_numbers = arr[np.vectorize(is_prime)(arr)]\n",
    "prime_numbers "
   ]
  },
  {
   "cell_type": "code",
   "execution_count": null,
   "id": "1475a371-afcf-47e9-b567-f93c57af737f",
   "metadata": {},
   "outputs": [],
   "source": [
    "# Que10-: Create a NumPy array representing daily temperatures for a month. Calculate and display the weekly\n",
    "averages.\n",
    "Ans:-"
   ]
  }
 ],
 "metadata": {
  "kernelspec": {
   "display_name": "Python 3 (ipykernel)",
   "language": "python",
   "name": "python3"
  },
  "language_info": {
   "codemirror_mode": {
    "name": "ipython",
    "version": 3
   },
   "file_extension": ".py",
   "mimetype": "text/x-python",
   "name": "python",
   "nbconvert_exporter": "python",
   "pygments_lexer": "ipython3",
   "version": "3.10.8"
  }
 },
 "nbformat": 4,
 "nbformat_minor": 5
}
